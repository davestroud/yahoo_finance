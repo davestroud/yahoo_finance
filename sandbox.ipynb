{
 "cells": [
  {
   "cell_type": "code",
   "execution_count": 1,
   "metadata": {},
   "outputs": [
    {
     "name": "stdout",
     "output_type": "stream",
     "text": [
      "{'address1': '625 Westport Parkway', 'city': 'Grapevine', 'state': 'TX', 'zip': '76051', 'country': 'United States', 'phone': '817 424 2000', 'website': 'https://www.gamestop.com', 'industry': 'Specialty Retail', 'industryKey': 'specialty-retail', 'industryDisp': 'Specialty Retail', 'sector': 'Consumer Cyclical', 'sectorKey': 'consumer-cyclical', 'sectorDisp': 'Consumer Cyclical', 'longBusinessSummary': 'GameStop Corp., a specialty retailer, provides games and entertainment products through its stores and ecommerce platforms in the United States, Canada, Australia, and Europe. The company sells new and pre-owned gaming platforms; accessories, such as controllers, gaming headsets, and virtual reality products; new and pre-owned gaming software; and in-game digital currency, digital downloadable content, and full-game downloads. It sells collectibles comprising apparel, toys, trading cards, gadgets, and other retail products for pop culture and technology enthusiasts, as well as engages in the digital asset wallet and NFT marketplace activities. The company operates stores and ecommerce sites under the GameStop, EB Games, and Micromania brands; and pop culture themed stores that sell collectibles, apparel, gadgets, electronics, toys, and other retail products under the Zing Pop Culture brand, as well as offers Game Informer magazine, a print and digital gaming publication. The company was formerly known as GSC Holdings Corp. GameStop Corp. was founded in 1996 and is headquartered in Grapevine, Texas.', 'fullTimeEmployees': 8000, 'companyOfficers': [{'maxAge': 1, 'name': 'Mr. Ryan  Cohen', 'age': 37, 'title': 'President, CEO & Executive Chairman', 'yearBorn': 1986, 'fiscalYear': 2023, 'exercisedValue': 0, 'unexercisedValue': 0}, {'maxAge': 1, 'name': 'Mr. Daniel William Moore', 'age': 40, 'title': 'Principal Accounting Officer & Principal Financial Officer', 'yearBorn': 1983, 'fiscalYear': 2023, 'totalPay': 277711, 'exercisedValue': 0, 'unexercisedValue': 0}, {'maxAge': 1, 'name': 'Mr. Mark Haymond Robinson', 'age': 45, 'title': 'General Counsel & Secretary', 'yearBorn': 1978, 'fiscalYear': 2023, 'totalPay': 337657, 'exercisedValue': 0, 'unexercisedValue': 0}], 'auditRisk': 8, 'boardRisk': 6, 'compensationRisk': 7, 'shareHolderRightsRisk': 3, 'overallRisk': 5, 'governanceEpochDate': 1717200000, 'compensationAsOfEpochDate': 1703980800, 'irWebsite': 'http://phx.corporate-ir.net/phoenix.zhtml?c=130125&p=irol-irhome', 'maxAge': 86400, 'priceHint': 2, 'previousClose': 23.14, 'open': 40.19, 'dayLow': 27.75, 'dayHigh': 40.5, 'regularMarketPreviousClose': 23.14, 'regularMarketOpen': 40.19, 'regularMarketDayLow': 27.75, 'regularMarketDayHigh': 40.5, 'exDividendDate': 1552521600, 'fiveYearAvgDividendYield': 9.52, 'beta': -0.211, 'trailingPE': 1510.5, 'forwardPE': 503.5, 'volume': 119690587, 'regularMarketVolume': 119690587, 'averageVolume': 23829968, 'averageVolume10days': 49515260, 'averageDailyVolume10Day': 49515260, 'bid': 30.41, 'ask': 30.48, 'bidSize': 1100, 'askSize': 3000, 'marketCap': 10609358848, 'fiftyTwoWeekLow': 9.95, 'fiftyTwoWeekHigh': 64.83, 'priceToSalesTrailing12Months': 2.0120919, 'fiftyDayAverage': 16.211, 'twoHundredDayAverage': 15.51785, 'currency': 'USD', 'enterpriseValue': 6481327616, 'profitMargins': 0.00127, 'floatShares': 272774698, 'sharesOutstanding': 351187008, 'sharesShort': 68391054, 'sharesShortPriorMonth': 59954492, 'sharesShortPreviousMonthDate': 1713139200, 'dateShortInterest': 1715731200, 'sharesPercentSharesOut': 0.2234, 'heldPercentInsiders': 0.12384, 'heldPercentInstitutions': 0.29177, 'shortRatio': 2.02, 'shortPercentOfFloat': 0.29459998, 'impliedSharesOutstanding': 351187008, 'bookValue': 4.379, 'priceToBook': 6.8988347, 'lastFiscalYearEnd': 1706918400, 'nextFiscalYearEnd': 1738540800, 'mostRecentQuarter': 1706918400, 'earningsQuarterlyGrowth': 0.309, 'netIncomeToCommon': 6700000, 'trailingEps': 0.02, 'forwardEps': 0.06, 'pegRatio': -46.96, 'lastSplitFactor': '4:1', 'lastSplitDate': 1658448000, 'enterpriseToRevenue': 1.229, 'enterpriseToEbitda': 264.544, '52WeekChange': -0.048128366, 'SandP52WeekChange': 0.23485482, 'lastDividendValue': 0.095, 'lastDividendDate': 1552521600, 'exchange': 'NYQ', 'quoteType': 'EQUITY', 'symbol': 'GME', 'underlyingSymbol': 'GME', 'shortName': 'GameStop Corporation', 'longName': 'GameStop Corp.', 'firstTradeDateEpochUtc': 1013610600, 'timeZoneFullName': 'America/New_York', 'timeZoneShortName': 'EDT', 'uuid': '8ded85bd-8171-3e2e-afa6-c81272285147', 'messageBoardId': 'finmb_1342560', 'gmtOffSetMilliseconds': -14400000, 'currentPrice': 30.21, 'targetHighPrice': 7.0, 'targetLowPrice': 5.75, 'targetMeanPrice': 6.38, 'targetMedianPrice': 6.38, 'recommendationMean': 4.5, 'recommendationKey': 'underperform', 'numberOfAnalystOpinions': 2, 'totalCash': 1199299968, 'totalCashPerShare': 3.921, 'ebitda': 24500000, 'totalDebt': 602800000, 'quickRatio': 1.381, 'currentRatio': 2.113, 'totalRevenue': 5272800256, 'debtToEquity': 45.032, 'revenuePerShare': 17.282, 'returnOnAssets': -0.00681, 'returnOnEquity': 0.00504, 'freeCashflow': -215712496, 'operatingCashflow': -203700000, 'earningsGrowth': 0.259, 'revenueGrowth': -0.194, 'grossMargins': 0.24545, 'ebitdaMargins': 0.00465, 'operatingMargins': 0.05626, 'financialCurrency': 'USD', 'trailingPegRatio': None}\n",
      "                                Open       High        Low      Close  \\\n",
      "Date                                                                    \n",
      "2024-05-03 00:00:00-04:00  12.420000  17.450001  12.310000  16.469999   \n",
      "2024-05-06 00:00:00-04:00  14.990000  17.400000  13.620000  16.309999   \n",
      "2024-05-07 00:00:00-04:00  15.850000  17.290001  14.930000  16.309999   \n",
      "2024-05-08 00:00:00-04:00  16.049999  17.240000  15.330000  15.920000   \n",
      "2024-05-09 00:00:00-04:00  15.900000  18.510000  15.350000  18.010000   \n",
      "2024-05-10 00:00:00-04:00  17.930000  20.200001  16.879999  17.459999   \n",
      "2024-05-13 00:00:00-04:00  26.340000  38.200001  24.770000  30.450001   \n",
      "2024-05-14 00:00:00-04:00  64.830002  64.830002  36.000000  48.750000   \n",
      "2024-05-15 00:00:00-04:00  40.310001  42.349998  31.000000  39.549999   \n",
      "2024-05-16 00:00:00-04:00  33.980000  35.240002  27.590000  27.670000   \n",
      "2024-05-17 00:00:00-04:00  21.860001  22.410000  19.700001  22.209999   \n",
      "2024-05-20 00:00:00-04:00  21.540001  23.400000  18.940001  23.139999   \n",
      "2024-05-21 00:00:00-04:00  22.240000  22.850000  20.040001  22.120001   \n",
      "2024-05-22 00:00:00-04:00  21.559999  22.250000  20.760000  21.120001   \n",
      "2024-05-23 00:00:00-04:00  21.400000  21.400000  18.260000  18.320000   \n",
      "2024-05-24 00:00:00-04:00  18.420000  19.680000  17.700001  19.000000   \n",
      "2024-05-28 00:00:00-04:00  23.100000  26.660000  21.150000  23.780001   \n",
      "2024-05-29 00:00:00-04:00  22.000000  22.980000  21.049999  21.240000   \n",
      "2024-05-30 00:00:00-04:00  21.020000  22.700001  20.100000  22.610001   \n",
      "2024-05-31 00:00:00-04:00  22.580000  23.719999  21.680000  23.139999   \n",
      "2024-06-03 00:00:00-04:00  40.189999  40.500000  27.750000  30.209999   \n",
      "\n",
      "                              Volume  Dividends  Stock Splits  \n",
      "Date                                                           \n",
      "2024-05-03 00:00:00-04:00   36292400        0.0           0.0  \n",
      "2024-05-06 00:00:00-04:00   48018700        0.0           0.0  \n",
      "2024-05-07 00:00:00-04:00   24308600        0.0           0.0  \n",
      "2024-05-08 00:00:00-04:00   24775100        0.0           0.0  \n",
      "2024-05-09 00:00:00-04:00   25759300        0.0           0.0  \n",
      "2024-05-10 00:00:00-04:00   36831900        0.0           0.0  \n",
      "2024-05-13 00:00:00-04:00  187241700        0.0           0.0  \n",
      "2024-05-14 00:00:00-04:00  206979100        0.0           0.0  \n",
      "2024-05-15 00:00:00-04:00  131790100        0.0           0.0  \n",
      "2024-05-16 00:00:00-04:00   76177600        0.0           0.0  \n",
      "2024-05-17 00:00:00-04:00   96079600        0.0           0.0  \n",
      "2024-05-20 00:00:00-04:00   55261600        0.0           0.0  \n",
      "2024-05-21 00:00:00-04:00   49250100        0.0           0.0  \n",
      "2024-05-22 00:00:00-04:00   43521400        0.0           0.0  \n",
      "2024-05-23 00:00:00-04:00   30561100        0.0           0.0  \n",
      "2024-05-24 00:00:00-04:00   41886700        0.0           0.0  \n",
      "2024-05-28 00:00:00-04:00  105077600        0.0           0.0  \n",
      "2024-05-29 00:00:00-04:00   26921200        0.0           0.0  \n",
      "2024-05-30 00:00:00-04:00   24508800        0.0           0.0  \n",
      "2024-05-31 00:00:00-04:00   22084500        0.0           0.0  \n",
      "2024-06-03 00:00:00-04:00  119690587        0.0           0.0  \n",
      "Empty DataFrame\n",
      "Columns: [Dividends, Stock Splits]\n",
      "Index: []\n",
      "Most recent GME stock price: 30.209999084472656\n"
     ]
    },
    {
     "name": "stderr",
     "output_type": "stream",
     "text": [
      "/var/folders/kz/_jxr42t969j3x9sdgjxvqjsc0000gn/T/ipykernel_95201/1514107255.py:19: FutureWarning: Series.__getitem__ treating keys as positions is deprecated. In a future version, integer keys will always be treated as labels (consistent with DataFrame behavior). To access a value by position, use `ser.iloc[pos]`\n",
      "  gme_price = gme.history(period=\"1d\")['Close'][0]\n"
     ]
    }
   ],
   "source": [
    "import yfinance as yf\n",
    "\n",
    "# Fetch the GME stock data\n",
    "gme = yf.Ticker(\"GME\")\n",
    "\n",
    "# Get stock information\n",
    "gme_info = gme.info\n",
    "print(gme_info)\n",
    "\n",
    "# Get historical market data (default period is '1mo')\n",
    "gme_hist = gme.history(period=\"1mo\")\n",
    "print(gme_hist)\n",
    "\n",
    "# Get actions (dividends, splits)\n",
    "gme_actions = gme.actions\n",
    "print(gme_actions)\n",
    "\n",
    "# Get recent stock price\n",
    "gme_price = gme.history(period=\"1d\")['Close'][0]\n",
    "print(f\"Most recent GME stock price: {gme_price}\")\n"
   ]
  },
  {
   "cell_type": "code",
   "execution_count": null,
   "metadata": {},
   "outputs": [],
   "source": []
  }
 ],
 "metadata": {
  "kernelspec": {
   "display_name": "yahoo_finance_env",
   "language": "python",
   "name": "python3"
  },
  "language_info": {
   "codemirror_mode": {
    "name": "ipython",
    "version": 3
   },
   "file_extension": ".py",
   "mimetype": "text/x-python",
   "name": "python",
   "nbconvert_exporter": "python",
   "pygments_lexer": "ipython3",
   "version": "3.12.3"
  }
 },
 "nbformat": 4,
 "nbformat_minor": 2
}
